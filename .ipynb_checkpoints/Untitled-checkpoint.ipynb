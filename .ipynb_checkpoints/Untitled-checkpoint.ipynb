{
 "cells": [
  {
   "cell_type": "code",
   "execution_count": 5,
   "id": "3809cc07",
   "metadata": {},
   "outputs": [
    {
     "data": {
      "text/plain": [
       "'\\nf = open(\\'history.pckl\\',\\'rb\\')\\ntrain_loss_history, test_loss_history = pickle.load(f)\\nf.close()\\n\\nplt.subplot(1,2,1)\\nplt.plot(train_loss_history)\\nplt.title(\"Training Loss\")\\n\\nplt.subplot(1,2,2)\\nplt.plot(test_loss_history)\\nplt.title(\"Test Loss\")\\n'"
      ]
     },
     "execution_count": 5,
     "metadata": {},
     "output_type": "execute_result"
    }
   ],
   "source": [
    "import model1\n",
    "import utils\n",
    "import torch\n",
    "import pickle\n",
    "import matplotlib.pyplot as plt\n",
    "import os\n",
    "\n",
    "# labels = ['English', 'Irish', 'Chinese', 'French', 'Portuguese', 'Greek', 'German', 'Dutch', 'Russian', 'Vietnamese', 'Arabic', 'Spanish', 'Scottish', 'Japanese', 'Italian', 'Korean', 'Polish', 'Czech']\n",
    "\n",
    "f = open('store.pckl','rb')\n",
    "category_lines,category_labels, labels = pickle.load(f)\n",
    "f.close()\n",
    "\n",
    "# Loading the data\n",
    "# category_lines,category_labels, labels = utils.loadata()\n",
    "\n",
    "# Creating the model\n",
    "model = model1.RNN(utils.N_LETTERS, 128, len(labels))\n",
    "\n",
    "# Fit the data in model\n",
    "df = model.fit((category_lines,category_labels, labels), epochs=3000)\n",
    "print(df)\n",
    "# Saving the model state\n",
    "#torch.save(model.state_dict(), \"model_state\")\n",
    "\n",
    "# model = model.RNN(utils.N_LETTERS, 128, 18)\n",
    "# model.load_state_dict(torch.load(\"model_state\"))\n",
    "# model.eval()\n",
    "'''\n",
    "f = open('history.pckl','rb')\n",
    "train_loss_history, test_loss_history = pickle.load(f)\n",
    "f.close()\n",
    "\n",
    "plt.subplot(1,2,1)\n",
    "plt.plot(train_loss_history)\n",
    "plt.title(\"Training Loss\")\n",
    "\n",
    "plt.subplot(1,2,2)\n",
    "plt.plot(test_loss_history)\n",
    "plt.title(\"Test Loss\")\n",
    "'''\n",
    "\n",
    "\n",
    "\n",
    "\n",
    "# # Sample Predict \n",
    "# print(model.predict('Young',labels))\n",
    "\n"
   ]
  }
 ],
 "metadata": {
  "kernelspec": {
   "display_name": "Python 3 (ipykernel)",
   "language": "python",
   "name": "python3"
  },
  "language_info": {
   "codemirror_mode": {
    "name": "ipython",
    "version": 3
   },
   "file_extension": ".py",
   "mimetype": "text/x-python",
   "name": "python",
   "nbconvert_exporter": "python",
   "pygments_lexer": "ipython3",
   "version": "3.9.12"
  }
 },
 "nbformat": 4,
 "nbformat_minor": 5
}
